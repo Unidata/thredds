{
 "cells": [
  {
   "cell_type": "markdown",
   "metadata": {},
   "source": [
    "<div style=\"width:1000 px\">\n",
    "\n",
    "<div style=\"float:right; width:98 px; height:98px;\">\n",
    "<img src=\"https://raw.githubusercontent.com/Unidata/MetPy/master/metpy/plots/_static/unidata_150x150.png\" alt=\"Unidata Logo\" style=\"height: 98px;\">\n",
    "</div>\n",
    "\n",
    "<h1>Siphon THREDDS Jupyter Notebook Viewer</h1>\n",
    "<h3>Dataset: {{datasetName}}</h3>\n",
    "\n",
    "<div style=\"clear:both\"></div>\n",
    "</div>\n",
    "\n",
    "<hr style=\"height:2px;\">\n"
   ]
  },
  {
   "cell_type": "markdown",
   "metadata": {},
   "source": [
    "<h4>Dependencies:</h4>\n",
    "<div>\n",
    "    <ul>\n",
    "        <li>Siphon: `pip install siphon`</li>\n",
    "        <li>matplotlib: `pip install matplotlib` or `conda install -c conda-forge matplotlib`</li>\n",
    "        <li>ipywidgets:\n",
    "            <ul><li>`pip install ipywidgets` or `conda install -c conda-forge ipywidgets`</li></ul>\n",
    "                then\n",
    "            <ul><li>Using Jupyter Notebook: `jupyter nbextension enable --py widgetsnbextension`</li>\n",
    "                <li>Using JupyterLab:\n",
    "                    <ul><li>Requires nodejs: `conda install nodejs`</li>\n",
    "                        <li>`jupyter labextension install @jupyter-widgets/jupyterlab-manager`</li>\n",
    "                </li></ul>\n",
    "        </li>\n",
    "        <li>numpy: `pip install numpy` or `conda install numpy`</li>\n",
    "    </ul>\n",
    "</div>\n",
    "\n",
    "<div style=\"clear:both\"></div>\n",
    "</div>\n",
    "\n",
    "<hr style=\"height:2px;\">"
   ]
  },
  {
   "cell_type": "code",
   "execution_count": null,
   "metadata": {},
   "outputs": [],
   "source": [
    "from siphon.catalog import TDSCatalog\n",
    "import matplotlib.pyplot as plt\n",
    "import numpy as np\n",
    "import ipywidgets as widgets"
   ]
  },
  {
   "cell_type": "code",
   "execution_count": null,
   "metadata": {},
   "outputs": [],
   "source": [
    "catUrl = \"{{catUrl}}\";\n",
    "datasetName = \"{{datasetName}}\";"
   ]
  },
  {
   "cell_type": "markdown",
   "metadata": {},
   "source": [
    "<h3>Access a dataset</h3>\n",
    "With the TDS catalog url, we can use Siphon to get the dataset named `datasetName`."
   ]
  },
  {
   "cell_type": "code",
   "execution_count": null,
   "metadata": {},
   "outputs": [],
   "source": [
    "catalog = TDSCatalog(catUrl)"
   ]
  },
  {
   "cell_type": "code",
   "execution_count": null,
   "metadata": {},
   "outputs": [],
   "source": [
    "ds = catalog.datasets[datasetName]\n",
    "ds.name"
   ]
  },
  {
   "cell_type": "markdown",
   "metadata": {},
   "source": [
    "Datasets each have a set of access protocols:"
   ]
  },
  {
   "cell_type": "code",
   "execution_count": null,
   "metadata": {},
   "outputs": [],
   "source": [
    "list(ds.access_urls)"
   ]
  },
  {
   "cell_type": "markdown",
   "metadata": {},
   "source": [
    "Siphon's `remote-access` returns a `Dataset` object, which opens the remote dataset and provides access to its metadata:"
   ]
  },
  {
   "cell_type": "code",
   "execution_count": null,
   "metadata": {},
   "outputs": [],
   "source": [
    "dataset = ds.remote_access()"
   ]
  },
  {
   "cell_type": "code",
   "execution_count": null,
   "metadata": {},
   "outputs": [],
   "source": [
    "list(dataset.ncattrs())"
   ]
  },
  {
   "cell_type": "markdown",
   "metadata": {},
   "source": [
    "<h3>Display a variable:</h3>\n",
    "<ul>\n",
    "    <li>Run the cells below to get an interactive list of variables in this dataset.</li>\n",
    "    <li>Select the variable you wish to view.</li>\n",
    "    <li>Execute the next cell to display info about the selected variable and plot it.</li>\n",
    "    <li>To plot a different variable, select it from the list and rerun the following cell.</li>\n"
   ]
  },
  {
   "cell_type": "code",
   "execution_count": null,
   "metadata": {},
   "outputs": [],
   "source": [
    "var_name = widgets.RadioButtons(\n",
    "    options=list(dataset.variables),\n",
    "    description='Variable:')\n"
   ]
  },
  {
   "cell_type": "code",
   "execution_count": null,
   "metadata": {},
   "outputs": [],
   "source": [
    "display(var_name)"
   ]
  },
  {
   "cell_type": "code",
   "execution_count": null,
   "metadata": {},
   "outputs": [],
   "source": [
    "var = dataset.variables[var_name.value]\n",
    "# display information about the variable\n",
    "print(var.name)\n",
    "print(list(var.dimensions))\n",
    "print(var.shape)\n",
    "\n",
    "%matplotlib inline\n",
    "# attempt to plot the variable\n",
    "canPlot = var.dtype == np.uint8 or np.can_cast(var.dtype, float, \"same_kind\") # Only plot numeric types\n",
    "if (canPlot):\n",
    "    ndims = np.squeeze(var[:]).ndim\n",
    "    # for one-dimensional data, print value\n",
    "    if (ndims == 0):\n",
    "        print(var.name, \": \", var)\n",
    "    # for two-dimensional data, make a line plot\n",
    "    elif (ndims == 1):\n",
    "        plt.plot(np.squeeze(np.array([range(len(np.squeeze(var[:])))])), np.squeeze(var[:]), 'bo', markersize=5)\n",
    "        plt.title(var.name)\n",
    "        plt.show()\n",
    "    # for three-dimensional data, make an image\n",
    "    elif (ndims == 2):\n",
    "        plt.imshow(var[:])\n",
    "        plt.title(var.name)\n",
    "        plt.show()\n",
    "    # for four or more dimensional data, print values\n",
    "    else:\n",
    "        print(\"Too many dimensions - Cannot display variable: \", var.name)\n",
    "        print(var[:])\n",
    "else:\n",
    "    print(\"Not a numeric type - Cannot display variable: \", var.name)\n",
    "    print(var[:])"
   ]
  },
  {
   "cell_type": "markdown",
   "metadata": {},
   "source": [
    "<b>Note</b> that data are only transferred over the network when the variable is sliced, and only data corresponding to the slice are downloaded. In this case, we are asking for all of the data with `var[:]`.\n",
    "\n",
    "\n",
    "<div style=\"clear:both\"></div>\n",
    "</div>\n",
    "\n",
    "<hr style=\"height:2px;\">"
   ]
  },
  {
   "cell_type": "markdown",
   "metadata": {},
   "source": [
    "<h3>More with Siphon</h3>\n",
    "<div>To see what else you can do, view the <a href=\"https://unidata.github.io/siphon/latest/api/index.html\">Siphon API</a>.</div>"
   ]
  },
  {
   "cell_type": "code",
   "execution_count": null,
   "metadata": {},
   "outputs": [],
   "source": [
    "### Your code here ###"
   ]
  }
 ],
 "metadata": {
  "kernelspec": {
   "display_name": "Python 3",
   "language": "python",
   "name": "python3"
  },
  "language_info": {
   "codemirror_mode": {
    "name": "ipython",
    "version": 3
   },
   "file_extension": ".py",
   "mimetype": "text/x-python",
   "name": "python",
   "nbconvert_exporter": "python",
   "pygments_lexer": "ipython3",
   "version": "3.6.5"
  }
 },
 "nbformat": 4,
 "nbformat_minor": 2
}
